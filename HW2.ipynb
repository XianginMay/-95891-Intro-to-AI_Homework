{
 "cells": [
  {
   "cell_type": "code",
   "execution_count": null,
   "metadata": {},
   "outputs": [],
   "source": [
    "# Q: What do these plots and correlation matrix signify?\n",
    "# A: The correlation measures the strength of a relationship between two variables.\n",
    "#   In this matrix, it shows the relationshop between #Retweets and other features\n",
    "\n",
    "# Q: What do the signs (+/-) before the correlation magnitudes signify?\n",
    "# A: Positive signs (+) means two variables move in the same direction, e.g. one moves up, the other moves up as well\n",
    "#    Negative signs (-) mean two variables move in the opposite direction\n",
    "\n",
    "# Q: If a feature shows 0 correlation to #Retweets, does that mean it could not contribute to prediction?\n",
    "# A: Yes\n",
    "\n",
    "# Compare the two regression methods:\n",
    "# I choose Mean Absolute Error as my evaluation metrics\n",
    "# it measures the average deviation between the estimated value and the actual value |prediction - actual#Retweets in test set|"
   ]
  },
  {
   "cell_type": "code",
   "execution_count": 73,
   "metadata": {},
   "outputs": [],
   "source": [
    "# import raw data using pandas\n",
    "import pandas as pd\n",
    "import numpy as np\n",
    "import matplotlib.pyplot as plt\n",
    "\n",
    "raw_data = pd.read_csv('/Users/xiangli/Desktop/95891 AI/HW2/hw2_updated.csv')  "
   ]
  },
  {
   "cell_type": "code",
   "execution_count": 74,
   "metadata": {},
   "outputs": [
    {
     "data": {
      "text/html": [
       "<div>\n",
       "<style scoped>\n",
       "    .dataframe tbody tr th:only-of-type {\n",
       "        vertical-align: middle;\n",
       "    }\n",
       "\n",
       "    .dataframe tbody tr th {\n",
       "        vertical-align: top;\n",
       "    }\n",
       "\n",
       "    .dataframe thead th {\n",
       "        text-align: right;\n",
       "    }\n",
       "</style>\n",
       "<table border=\"1\" class=\"dataframe\">\n",
       "  <thead>\n",
       "    <tr style=\"text-align: right;\">\n",
       "      <th></th>\n",
       "      <th>Tweet ID</th>\n",
       "      <th>Username</th>\n",
       "      <th>Timestamp</th>\n",
       "      <th>#Followers</th>\n",
       "      <th>#Friends</th>\n",
       "      <th>#Retweets</th>\n",
       "      <th>#Favorites</th>\n",
       "      <th>Entities</th>\n",
       "      <th>Sentiment</th>\n",
       "      <th>Mentions</th>\n",
       "      <th>Hashtags</th>\n",
       "      <th>URLs</th>\n",
       "      <th>positive_sentiment</th>\n",
       "      <th>negative_sentiment</th>\n",
       "      <th>time_hour</th>\n",
       "      <th>num_memtions</th>\n",
       "      <th>num_hashtags</th>\n",
       "    </tr>\n",
       "  </thead>\n",
       "  <tbody>\n",
       "    <tr>\n",
       "      <th>0</th>\n",
       "      <td>1178791787386814465</td>\n",
       "      <td>35234fe4a19cc1a3336095fb3780bcc1</td>\n",
       "      <td>Mon Sep 30 22:00:37 +0000 2019</td>\n",
       "      <td>619</td>\n",
       "      <td>770</td>\n",
       "      <td>0</td>\n",
       "      <td>0</td>\n",
       "      <td>null;</td>\n",
       "      <td>2 -1</td>\n",
       "      <td>null;</td>\n",
       "      <td>null;</td>\n",
       "      <td>null;</td>\n",
       "      <td>2</td>\n",
       "      <td>-1</td>\n",
       "      <td>22</td>\n",
       "      <td>0</td>\n",
       "      <td>0</td>\n",
       "    </tr>\n",
       "    <tr>\n",
       "      <th>1</th>\n",
       "      <td>1178791985106153472</td>\n",
       "      <td>ea4592f39636d87af8fb4b17b7e2e4c0</td>\n",
       "      <td>Mon Sep 30 22:01:24 +0000 2019</td>\n",
       "      <td>36365</td>\n",
       "      <td>19344</td>\n",
       "      <td>13</td>\n",
       "      <td>17</td>\n",
       "      <td>nazi:Nazism:-2.742538749414189;blood money:Blo...</td>\n",
       "      <td>1 -4</td>\n",
       "      <td>null;</td>\n",
       "      <td>null;</td>\n",
       "      <td>https://twitter.com/himalayahawk/status/117766...</td>\n",
       "      <td>1</td>\n",
       "      <td>-4</td>\n",
       "      <td>22</td>\n",
       "      <td>0</td>\n",
       "      <td>0</td>\n",
       "    </tr>\n",
       "    <tr>\n",
       "      <th>2</th>\n",
       "      <td>1178793230223183872</td>\n",
       "      <td>bf05d1888dd974fa4a8679c25e2ead03</td>\n",
       "      <td>Mon Sep 30 22:06:21 +0000 2019</td>\n",
       "      <td>5018</td>\n",
       "      <td>1933</td>\n",
       "      <td>0</td>\n",
       "      <td>0</td>\n",
       "      <td>vaccine:Vaccine:-2.6651530673745762;anti vaxxe...</td>\n",
       "      <td>2 -1</td>\n",
       "      <td>null;</td>\n",
       "      <td>null;</td>\n",
       "      <td>https://goo.gl/fb/uoeiPk:-:</td>\n",
       "      <td>2</td>\n",
       "      <td>-1</td>\n",
       "      <td>22</td>\n",
       "      <td>0</td>\n",
       "      <td>0</td>\n",
       "    </tr>\n",
       "    <tr>\n",
       "      <th>3</th>\n",
       "      <td>1178795172206919680</td>\n",
       "      <td>eb8a99bca8945eab1d006750e9b75518</td>\n",
       "      <td>Mon Sep 30 22:14:04 +0000 2019</td>\n",
       "      <td>2219</td>\n",
       "      <td>971</td>\n",
       "      <td>0</td>\n",
       "      <td>0</td>\n",
       "      <td>muse:Muse_%28band%29:-2.1677823918620867;talki...</td>\n",
       "      <td>2 -1</td>\n",
       "      <td>null;</td>\n",
       "      <td>null;</td>\n",
       "      <td>null;</td>\n",
       "      <td>2</td>\n",
       "      <td>-1</td>\n",
       "      <td>22</td>\n",
       "      <td>0</td>\n",
       "      <td>0</td>\n",
       "    </tr>\n",
       "    <tr>\n",
       "      <th>4</th>\n",
       "      <td>1178798309491822592</td>\n",
       "      <td>00695cf79d60e86a5d0f872f4358337a</td>\n",
       "      <td>Mon Sep 30 22:26:32 +0000 2019</td>\n",
       "      <td>9009</td>\n",
       "      <td>4943</td>\n",
       "      <td>26</td>\n",
       "      <td>89</td>\n",
       "      <td>people of northern ireland:People_of_Northern_...</td>\n",
       "      <td>2 -1</td>\n",
       "      <td>null;</td>\n",
       "      <td>VFS</td>\n",
       "      <td>null;</td>\n",
       "      <td>2</td>\n",
       "      <td>-1</td>\n",
       "      <td>22</td>\n",
       "      <td>0</td>\n",
       "      <td>1</td>\n",
       "    </tr>\n",
       "    <tr>\n",
       "      <th>...</th>\n",
       "      <td>...</td>\n",
       "      <td>...</td>\n",
       "      <td>...</td>\n",
       "      <td>...</td>\n",
       "      <td>...</td>\n",
       "      <td>...</td>\n",
       "      <td>...</td>\n",
       "      <td>...</td>\n",
       "      <td>...</td>\n",
       "      <td>...</td>\n",
       "      <td>...</td>\n",
       "      <td>...</td>\n",
       "      <td>...</td>\n",
       "      <td>...</td>\n",
       "      <td>...</td>\n",
       "      <td>...</td>\n",
       "      <td>...</td>\n",
       "    </tr>\n",
       "    <tr>\n",
       "      <th>99995</th>\n",
       "      <td>1179546502076796929</td>\n",
       "      <td>13e64b1c97e36d867d1c579a7dd1849c</td>\n",
       "      <td>Wed Oct 02 23:59:35 +0000 2019</td>\n",
       "      <td>41</td>\n",
       "      <td>193</td>\n",
       "      <td>0</td>\n",
       "      <td>0</td>\n",
       "      <td>null;</td>\n",
       "      <td>1 -1</td>\n",
       "      <td>cripplespur1</td>\n",
       "      <td>null;</td>\n",
       "      <td>null;</td>\n",
       "      <td>1</td>\n",
       "      <td>-1</td>\n",
       "      <td>23</td>\n",
       "      <td>1</td>\n",
       "      <td>0</td>\n",
       "    </tr>\n",
       "    <tr>\n",
       "      <th>99996</th>\n",
       "      <td>1179546574873141257</td>\n",
       "      <td>564b19153eb32b6a49167eea42d451f0</td>\n",
       "      <td>Wed Oct 02 23:59:53 +0000 2019</td>\n",
       "      <td>2011</td>\n",
       "      <td>1345</td>\n",
       "      <td>1</td>\n",
       "      <td>5</td>\n",
       "      <td>happy birthday to you:Happy_Birthday_to_You:-1...</td>\n",
       "      <td>3 -1</td>\n",
       "      <td>aii0l57❤️❤️❤️.</td>\n",
       "      <td>null;</td>\n",
       "      <td>null;</td>\n",
       "      <td>3</td>\n",
       "      <td>-1</td>\n",
       "      <td>23</td>\n",
       "      <td>1</td>\n",
       "      <td>0</td>\n",
       "    </tr>\n",
       "    <tr>\n",
       "      <th>99997</th>\n",
       "      <td>1179548305589755906</td>\n",
       "      <td>9f6a999aa613403742fd30afeadd9b6d</td>\n",
       "      <td>Thu Oct 03 00:06:45 +0000 2019</td>\n",
       "      <td>294</td>\n",
       "      <td>300</td>\n",
       "      <td>0</td>\n",
       "      <td>0</td>\n",
       "      <td>null;</td>\n",
       "      <td>1 -1</td>\n",
       "      <td>null;</td>\n",
       "      <td>null;</td>\n",
       "      <td>null;</td>\n",
       "      <td>1</td>\n",
       "      <td>-1</td>\n",
       "      <td>0</td>\n",
       "      <td>0</td>\n",
       "      <td>0</td>\n",
       "    </tr>\n",
       "    <tr>\n",
       "      <th>99998</th>\n",
       "      <td>1179550507611906048</td>\n",
       "      <td>b14166b39b4bf8718f62f84dcad0b67d</td>\n",
       "      <td>Thu Oct 03 00:15:30 +0000 2019</td>\n",
       "      <td>169</td>\n",
       "      <td>116</td>\n",
       "      <td>0</td>\n",
       "      <td>0</td>\n",
       "      <td>null;</td>\n",
       "      <td>1 -1</td>\n",
       "      <td>null;</td>\n",
       "      <td>ChicagoMed</td>\n",
       "      <td>null;</td>\n",
       "      <td>1</td>\n",
       "      <td>-1</td>\n",
       "      <td>0</td>\n",
       "      <td>0</td>\n",
       "      <td>1</td>\n",
       "    </tr>\n",
       "    <tr>\n",
       "      <th>99999</th>\n",
       "      <td>1179551153521954816</td>\n",
       "      <td>92e640d92f4b47d6a3aeac3cadc814d8</td>\n",
       "      <td>Thu Oct 03 00:18:04 +0000 2019</td>\n",
       "      <td>490</td>\n",
       "      <td>1285</td>\n",
       "      <td>0</td>\n",
       "      <td>0</td>\n",
       "      <td>prolly:Prolly:-2.50789610553847;meme:Meme:-2.7...</td>\n",
       "      <td>2 -2</td>\n",
       "      <td>null;</td>\n",
       "      <td>null;</td>\n",
       "      <td>null;</td>\n",
       "      <td>2</td>\n",
       "      <td>-2</td>\n",
       "      <td>0</td>\n",
       "      <td>0</td>\n",
       "      <td>0</td>\n",
       "    </tr>\n",
       "  </tbody>\n",
       "</table>\n",
       "<p>100000 rows × 17 columns</p>\n",
       "</div>"
      ],
      "text/plain": [
       "                  Tweet ID                          Username  \\\n",
       "0      1178791787386814465  35234fe4a19cc1a3336095fb3780bcc1   \n",
       "1      1178791985106153472  ea4592f39636d87af8fb4b17b7e2e4c0   \n",
       "2      1178793230223183872  bf05d1888dd974fa4a8679c25e2ead03   \n",
       "3      1178795172206919680  eb8a99bca8945eab1d006750e9b75518   \n",
       "4      1178798309491822592  00695cf79d60e86a5d0f872f4358337a   \n",
       "...                    ...                               ...   \n",
       "99995  1179546502076796929  13e64b1c97e36d867d1c579a7dd1849c   \n",
       "99996  1179546574873141257  564b19153eb32b6a49167eea42d451f0   \n",
       "99997  1179548305589755906  9f6a999aa613403742fd30afeadd9b6d   \n",
       "99998  1179550507611906048  b14166b39b4bf8718f62f84dcad0b67d   \n",
       "99999  1179551153521954816  92e640d92f4b47d6a3aeac3cadc814d8   \n",
       "\n",
       "                            Timestamp  #Followers  #Friends  #Retweets  \\\n",
       "0      Mon Sep 30 22:00:37 +0000 2019         619       770          0   \n",
       "1      Mon Sep 30 22:01:24 +0000 2019       36365     19344         13   \n",
       "2      Mon Sep 30 22:06:21 +0000 2019        5018      1933          0   \n",
       "3      Mon Sep 30 22:14:04 +0000 2019        2219       971          0   \n",
       "4      Mon Sep 30 22:26:32 +0000 2019        9009      4943         26   \n",
       "...                               ...         ...       ...        ...   \n",
       "99995  Wed Oct 02 23:59:35 +0000 2019          41       193          0   \n",
       "99996  Wed Oct 02 23:59:53 +0000 2019        2011      1345          1   \n",
       "99997  Thu Oct 03 00:06:45 +0000 2019         294       300          0   \n",
       "99998  Thu Oct 03 00:15:30 +0000 2019         169       116          0   \n",
       "99999  Thu Oct 03 00:18:04 +0000 2019         490      1285          0   \n",
       "\n",
       "       #Favorites                                           Entities  \\\n",
       "0               0                                              null;   \n",
       "1              17  nazi:Nazism:-2.742538749414189;blood money:Blo...   \n",
       "2               0  vaccine:Vaccine:-2.6651530673745762;anti vaxxe...   \n",
       "3               0  muse:Muse_%28band%29:-2.1677823918620867;talki...   \n",
       "4              89  people of northern ireland:People_of_Northern_...   \n",
       "...           ...                                                ...   \n",
       "99995           0                                              null;   \n",
       "99996           5  happy birthday to you:Happy_Birthday_to_You:-1...   \n",
       "99997           0                                              null;   \n",
       "99998           0                                              null;   \n",
       "99999           0  prolly:Prolly:-2.50789610553847;meme:Meme:-2.7...   \n",
       "\n",
       "      Sentiment        Mentions    Hashtags  \\\n",
       "0          2 -1           null;       null;   \n",
       "1          1 -4           null;       null;   \n",
       "2          2 -1           null;       null;   \n",
       "3          2 -1           null;       null;   \n",
       "4          2 -1           null;         VFS   \n",
       "...         ...             ...         ...   \n",
       "99995      1 -1    cripplespur1       null;   \n",
       "99996      3 -1  aii0l57❤️❤️❤️.       null;   \n",
       "99997      1 -1           null;       null;   \n",
       "99998      1 -1           null;  ChicagoMed   \n",
       "99999      2 -2           null;       null;   \n",
       "\n",
       "                                                    URLs  positive_sentiment  \\\n",
       "0                                                  null;                   2   \n",
       "1      https://twitter.com/himalayahawk/status/117766...                   1   \n",
       "2                            https://goo.gl/fb/uoeiPk:-:                   2   \n",
       "3                                                  null;                   2   \n",
       "4                                                  null;                   2   \n",
       "...                                                  ...                 ...   \n",
       "99995                                              null;                   1   \n",
       "99996                                              null;                   3   \n",
       "99997                                              null;                   1   \n",
       "99998                                              null;                   1   \n",
       "99999                                              null;                   2   \n",
       "\n",
       "       negative_sentiment  time_hour  num_memtions  num_hashtags  \n",
       "0                      -1         22             0             0  \n",
       "1                      -4         22             0             0  \n",
       "2                      -1         22             0             0  \n",
       "3                      -1         22             0             0  \n",
       "4                      -1         22             0             1  \n",
       "...                   ...        ...           ...           ...  \n",
       "99995                  -1         23             1             0  \n",
       "99996                  -1         23             1             0  \n",
       "99997                  -1          0             0             0  \n",
       "99998                  -1          0             0             1  \n",
       "99999                  -2          0             0             0  \n",
       "\n",
       "[100000 rows x 17 columns]"
      ]
     },
     "execution_count": 74,
     "metadata": {},
     "output_type": "execute_result"
    }
   ],
   "source": [
    "# split Sentiment into 'positive_sentiment' and 'negative_sentiment'\n",
    "# convert the data type into integer\n",
    "\n",
    "raw_data['positive_sentiment']=raw_data['Sentiment'].map(lambda x:x.split(\" \")[0])\n",
    "raw_data['positive_sentiment'] = pd.to_numeric(raw_data['positive_sentiment'])\n",
    "raw_data['negative_sentiment']=raw_data['Sentiment'].map(lambda x:x.split(\" \")[1])\n",
    "raw_data['negative_sentiment'] = pd.to_numeric(raw_data['negative_sentiment'])\n",
    "\n",
    "# extract post hour\n",
    "raw_data['time_hour']=pd.to_datetime(raw_data[\"Timestamp\"]).map(lambda x:x.hour)\n",
    "raw_data['time_hour'] = pd.to_numeric(raw_data['time_hour'])\n",
    "\n",
    "# extract number of mentions\n",
    "def count_words(x): \n",
    "    if str(x)==\"null;\":\n",
    "        return 0 \n",
    "    else:\n",
    "        return len(str(x).split(\" \"))\n",
    "raw_data['num_memtions']=raw_data[\"Mentions\"].apply(count_words)\n",
    "raw_data['num_memtions'] = pd.to_numeric(raw_data['num_memtions'])\n",
    "\n",
    "# extract number of hashtags\n",
    "raw_data['num_hashtags']=raw_data[\"Hashtags\"].apply(count_words)\n",
    "raw_data['num_hashtags'] = pd.to_numeric(raw_data['num_hashtags'])\n",
    "\n",
    "# deal with the null value\n",
    "raw_data.fillna(0)"
   ]
  },
  {
   "cell_type": "code",
   "execution_count": 75,
   "metadata": {
    "scrolled": true
   },
   "outputs": [
    {
     "data": {
      "text/plain": [
       "(array([1.9532e+04, 4.3460e+03, 1.7840e+03, 8.5500e+02, 5.3100e+02,\n",
       "        3.1200e+02, 1.8000e+02, 6.2000e+01, 1.5000e+01, 4.0000e+00]),\n",
       " array([0.        , 0.2909556 , 0.58191121, 0.87286681, 1.16382241,\n",
       "        1.45477801, 1.74573362, 2.03668922, 2.32764482, 2.61860043,\n",
       "        2.90955603]),\n",
       " <a list of 10 Patch objects>)"
      ]
     },
     "execution_count": 75,
     "metadata": {},
     "output_type": "execute_result"
    },
    {
     "data": {
      "image/png": "[encoded data removed]",
      "text/plain": [
       "<Figure size 432x288 with 1 Axes>"
      ]
     },
     "metadata": {
      "needs_background": "light"
     },
     "output_type": "display_data"
    }
   ],
   "source": [
    "# Exploratory Data Analysis - Data visualization\n",
    "# #Followers\n",
    "plt.hist(raw_data['#Followers'].value_counts().apply(np.log10),bins=10,\n",
    "        color=\"steelblue\",\n",
    "        edgecolor=\"black\")"
   ]
  },
  {
   "cell_type": "code",
   "execution_count": 76,
   "metadata": {
    "scrolled": true
   },
   "outputs": [
    {
     "data": {
      "text/plain": [
       "(array([7.838e+03, 1.266e+03, 1.051e+03, 6.680e+02, 4.410e+02, 4.190e+02,\n",
       "        3.070e+02, 7.200e+01, 2.000e+00, 1.000e+00]),\n",
       " array([0.        , 0.30358298, 0.60716597, 0.91074895, 1.21433193,\n",
       "        1.51791491, 1.8214979 , 2.12508088, 2.42866386, 2.73224684,\n",
       "        3.03582983]),\n",
       " <a list of 10 Patch objects>)"
      ]
     },
     "execution_count": 76,
     "metadata": {},
     "output_type": "execute_result"
    },
    {
     "data": {
      "image/png": "[encoded data removed]",
      "text/plain": [
       "<Figure size 432x288 with 1 Axes>"
      ]
     },
     "metadata": {
      "needs_background": "light"
     },
     "output_type": "display_data"
    }
   ],
   "source": [
    "# #Friends\n",
    "plt.hist(raw_data['#Friends'].value_counts().apply(np.log10),bins=10,\n",
    "        color=\"steelblue\",\n",
    "        edgecolor=\"black\")"
   ]
  },
  {
   "cell_type": "code",
   "execution_count": 79,
   "metadata": {},
   "outputs": [
    {
     "data": {
      "text/plain": [
       "(array([1.435e+03, 4.760e+02, 2.460e+02, 1.160e+02, 5.300e+01, 1.900e+01,\n",
       "        6.000e+00, 2.000e+00, 0.000e+00, 1.000e+00]),\n",
       " array([0.        , 0.47710066, 0.95420131, 1.43130197, 1.90840263,\n",
       "        2.38550328, 2.86260394, 3.33970459, 3.81680525, 4.29390591,\n",
       "        4.77100656]),\n",
       " <a list of 10 Patch objects>)"
      ]
     },
     "execution_count": 79,
     "metadata": {},
     "output_type": "execute_result"
    },
    {
     "data": {
      "image/png": "[encoded data removed]",
      "text/plain": [
       "<Figure size 432x288 with 1 Axes>"
      ]
     },
     "metadata": {
      "needs_background": "light"
     },
     "output_type": "display_data"
    }
   ],
   "source": [
    "# #Favorites\n",
    "plt.hist(raw_data['#Favorites'].value_counts().apply(np.log10),bins=10,\n",
    "        color=\"steelblue\",\n",
    "        edgecolor=\"black\")"
   ]
  },
  {
   "cell_type": "code",
   "execution_count": 80,
   "metadata": {},
   "outputs": [
    {
     "data": {
      "text/html": [
       "<div>\n",
       "<style scoped>\n",
       "    .dataframe tbody tr th:only-of-type {\n",
       "        vertical-align: middle;\n",
       "    }\n",
       "\n",
       "    .dataframe tbody tr th {\n",
       "        vertical-align: top;\n",
       "    }\n",
       "\n",
       "    .dataframe thead th {\n",
       "        text-align: right;\n",
       "    }\n",
       "</style>\n",
       "<table border=\"1\" class=\"dataframe\">\n",
       "  <thead>\n",
       "    <tr style=\"text-align: right;\">\n",
       "      <th></th>\n",
       "      <th>#Retweets</th>\n",
       "      <th>#Followers</th>\n",
       "      <th>#Friends</th>\n",
       "      <th>#Favorites</th>\n",
       "      <th>positive_sentiment</th>\n",
       "      <th>negative_sentiment</th>\n",
       "    </tr>\n",
       "  </thead>\n",
       "  <tbody>\n",
       "    <tr>\n",
       "      <th>#Retweets</th>\n",
       "      <td>1.000000</td>\n",
       "      <td>0.134503</td>\n",
       "      <td>0.026502</td>\n",
       "      <td>0.890328</td>\n",
       "      <td>0.000433</td>\n",
       "      <td>-0.010565</td>\n",
       "    </tr>\n",
       "    <tr>\n",
       "      <th>#Followers</th>\n",
       "      <td>0.134503</td>\n",
       "      <td>1.000000</td>\n",
       "      <td>0.011337</td>\n",
       "      <td>0.172158</td>\n",
       "      <td>-0.027071</td>\n",
       "      <td>0.008711</td>\n",
       "    </tr>\n",
       "    <tr>\n",
       "      <th>#Friends</th>\n",
       "      <td>0.026502</td>\n",
       "      <td>0.011337</td>\n",
       "      <td>1.000000</td>\n",
       "      <td>0.017877</td>\n",
       "      <td>-0.000555</td>\n",
       "      <td>-0.007891</td>\n",
       "    </tr>\n",
       "    <tr>\n",
       "      <th>#Favorites</th>\n",
       "      <td>0.890328</td>\n",
       "      <td>0.172158</td>\n",
       "      <td>0.017877</td>\n",
       "      <td>1.000000</td>\n",
       "      <td>0.002533</td>\n",
       "      <td>-0.003889</td>\n",
       "    </tr>\n",
       "    <tr>\n",
       "      <th>positive_sentiment</th>\n",
       "      <td>0.000433</td>\n",
       "      <td>-0.027071</td>\n",
       "      <td>-0.000555</td>\n",
       "      <td>0.002533</td>\n",
       "      <td>1.000000</td>\n",
       "      <td>-0.039849</td>\n",
       "    </tr>\n",
       "    <tr>\n",
       "      <th>negative_sentiment</th>\n",
       "      <td>-0.010565</td>\n",
       "      <td>0.008711</td>\n",
       "      <td>-0.007891</td>\n",
       "      <td>-0.003889</td>\n",
       "      <td>-0.039849</td>\n",
       "      <td>1.000000</td>\n",
       "    </tr>\n",
       "  </tbody>\n",
       "</table>\n",
       "</div>"
      ],
      "text/plain": [
       "                    #Retweets  #Followers  #Friends  #Favorites  \\\n",
       "#Retweets            1.000000    0.134503  0.026502    0.890328   \n",
       "#Followers           0.134503    1.000000  0.011337    0.172158   \n",
       "#Friends             0.026502    0.011337  1.000000    0.017877   \n",
       "#Favorites           0.890328    0.172158  0.017877    1.000000   \n",
       "positive_sentiment   0.000433   -0.027071 -0.000555    0.002533   \n",
       "negative_sentiment  -0.010565    0.008711 -0.007891   -0.003889   \n",
       "\n",
       "                    positive_sentiment  negative_sentiment  \n",
       "#Retweets                     0.000433           -0.010565  \n",
       "#Followers                   -0.027071            0.008711  \n",
       "#Friends                     -0.000555           -0.007891  \n",
       "#Favorites                    0.002533           -0.003889  \n",
       "positive_sentiment            1.000000           -0.039849  \n",
       "negative_sentiment           -0.039849            1.000000  "
      ]
     },
     "execution_count": 80,
     "metadata": {},
     "output_type": "execute_result"
    }
   ],
   "source": [
    "# Show the correlation matrix\n",
    "corr_matrix = pd.DataFrame(raw_data, columns=['#Retweets', '#Followers', '#Friends', '#Favorites', 'positive_sentiment', 'negative_sentiment'])\n",
    "corr_matrix.corr(method ='pearson')\n"
   ]
  },
  {
   "cell_type": "code",
   "execution_count": 81,
   "metadata": {},
   "outputs": [],
   "source": [
    "# Split the dataset into train set and test set\n",
    "\n",
    "train_data = raw_data.head(80000)\n",
    "test_data = raw_data.tail(20000)"
   ]
  },
  {
   "cell_type": "code",
   "execution_count": 82,
   "metadata": {},
   "outputs": [
    {
     "data": {
      "text/html": [
       "<div>\n",
       "<style scoped>\n",
       "    .dataframe tbody tr th:only-of-type {\n",
       "        vertical-align: middle;\n",
       "    }\n",
       "\n",
       "    .dataframe tbody tr th {\n",
       "        vertical-align: top;\n",
       "    }\n",
       "\n",
       "    .dataframe thead th {\n",
       "        text-align: right;\n",
       "    }\n",
       "</style>\n",
       "<table border=\"1\" class=\"dataframe\">\n",
       "  <thead>\n",
       "    <tr style=\"text-align: right;\">\n",
       "      <th></th>\n",
       "      <th>count</th>\n",
       "      <th>mean</th>\n",
       "      <th>std</th>\n",
       "      <th>min</th>\n",
       "      <th>25%</th>\n",
       "      <th>50%</th>\n",
       "      <th>75%</th>\n",
       "      <th>max</th>\n",
       "    </tr>\n",
       "  </thead>\n",
       "  <tbody>\n",
       "    <tr>\n",
       "      <th>#Followers</th>\n",
       "      <td>80000.0</td>\n",
       "      <td>172676.358138</td>\n",
       "      <td>1.842147e+06</td>\n",
       "      <td>0.0</td>\n",
       "      <td>190.0</td>\n",
       "      <td>964.0</td>\n",
       "      <td>6500.25</td>\n",
       "      <td>78674340.0</td>\n",
       "    </tr>\n",
       "    <tr>\n",
       "      <th>#Friends</th>\n",
       "      <td>80000.0</td>\n",
       "      <td>3160.484475</td>\n",
       "      <td>1.685946e+04</td>\n",
       "      <td>0.0</td>\n",
       "      <td>181.0</td>\n",
       "      <td>525.0</td>\n",
       "      <td>1526.00</td>\n",
       "      <td>1847681.0</td>\n",
       "    </tr>\n",
       "    <tr>\n",
       "      <th>#Favorites</th>\n",
       "      <td>80000.0</td>\n",
       "      <td>111.651337</td>\n",
       "      <td>1.373373e+03</td>\n",
       "      <td>0.0</td>\n",
       "      <td>0.0</td>\n",
       "      <td>0.0</td>\n",
       "      <td>15.00</td>\n",
       "      <td>185624.0</td>\n",
       "    </tr>\n",
       "    <tr>\n",
       "      <th>positive_sentiment</th>\n",
       "      <td>80000.0</td>\n",
       "      <td>1.633037</td>\n",
       "      <td>7.806463e-01</td>\n",
       "      <td>1.0</td>\n",
       "      <td>1.0</td>\n",
       "      <td>1.0</td>\n",
       "      <td>2.00</td>\n",
       "      <td>5.0</td>\n",
       "    </tr>\n",
       "    <tr>\n",
       "      <th>negative_sentiment</th>\n",
       "      <td>80000.0</td>\n",
       "      <td>-1.619938</td>\n",
       "      <td>1.005151e+00</td>\n",
       "      <td>-5.0</td>\n",
       "      <td>-2.0</td>\n",
       "      <td>-1.0</td>\n",
       "      <td>-1.00</td>\n",
       "      <td>-1.0</td>\n",
       "    </tr>\n",
       "  </tbody>\n",
       "</table>\n",
       "</div>"
      ],
      "text/plain": [
       "                      count           mean           std  min    25%    50%  \\\n",
       "#Followers          80000.0  172676.358138  1.842147e+06  0.0  190.0  964.0   \n",
       "#Friends            80000.0    3160.484475  1.685946e+04  0.0  181.0  525.0   \n",
       "#Favorites          80000.0     111.651337  1.373373e+03  0.0    0.0    0.0   \n",
       "positive_sentiment  80000.0       1.633037  7.806463e-01  1.0    1.0    1.0   \n",
       "negative_sentiment  80000.0      -1.619938  1.005151e+00 -5.0   -2.0   -1.0   \n",
       "\n",
       "                        75%         max  \n",
       "#Followers          6500.25  78674340.0  \n",
       "#Friends            1526.00   1847681.0  \n",
       "#Favorites            15.00    185624.0  \n",
       "positive_sentiment     2.00         5.0  \n",
       "negative_sentiment    -1.00        -1.0  "
      ]
     },
     "execution_count": 82,
     "metadata": {},
     "output_type": "execute_result"
    }
   ],
   "source": [
    "train_x.describe().T"
   ]
  },
  {
   "cell_type": "code",
   "execution_count": 27,
   "metadata": {},
   "outputs": [
    {
     "data": {
      "text/plain": [
       "0         0\n",
       "1        13\n",
       "2         0\n",
       "3         0\n",
       "4        26\n",
       "         ..\n",
       "79995     1\n",
       "79996     2\n",
       "79997     0\n",
       "79998     0\n",
       "79999     0\n",
       "Name: #Retweets, Length: 80000, dtype: int64"
      ]
     },
     "execution_count": 27,
     "metadata": {},
     "output_type": "execute_result"
    }
   ],
   "source": [
    "train_y"
   ]
  },
  {
   "cell_type": "code",
   "execution_count": 26,
   "metadata": {},
   "outputs": [
    {
     "data": {
      "text/plain": [
       "0       44659\n",
       "1        6382\n",
       "2        3002\n",
       "3        2090\n",
       "4        1596\n",
       "        ...  \n",
       "1429        1\n",
       "1813        1\n",
       "1877        1\n",
       "2005        1\n",
       "9659        1\n",
       "Name: #Retweets, Length: 1107, dtype: int64"
      ]
     },
     "execution_count": 26,
     "metadata": {},
     "output_type": "execute_result"
    }
   ],
   "source": [
    "train_y.value_counts()"
   ]
  },
  {
   "cell_type": "code",
   "execution_count": 23,
   "metadata": {},
   "outputs": [],
   "source": [
    "# import library\n",
    "import pandas as pd\n",
    "import numpy as np\n",
    "import matplotlib.pyplot as plt  \n",
    "from sklearn.model_selection import cross_val_score\n",
    "from sklearn.ensemble import RandomForestClassifier\n",
    "from sklearn import neighbors\n",
    "from sklearn.linear_model import LinearRegression\n",
    "from sklearn.preprocessing import StandardScaler\n",
    "import seaborn as sns\n",
    "%matplotlib inline"
   ]
  },
  {
   "cell_type": "code",
   "execution_count": 24,
   "metadata": {},
   "outputs": [],
   "source": [
    "# Random Forest\n",
    "train_x = train_data[['#Followers', '#Friends', '#Favorites', 'positive_sentiment', 'negative_sentiment']]\n",
    "train_y = train_data['#Retweets']\n",
    "test_x = test_data[['#Followers', '#Friends', '#Favorites', 'positive_sentiment', 'negative_sentiment']]\n",
    "test_y = test_data['#Retweets']"
   ]
  },
  {
   "cell_type": "code",
   "execution_count": 28,
   "metadata": {},
   "outputs": [
    {
     "name": "stderr",
     "output_type": "stream",
     "text": [
      "/Users/xiangli/opt/anaconda3/lib/python3.8/site-packages/sklearn/model_selection/_split.py:670: UserWarning: The least populated class in y has only 1 members, which is less than n_splits=10.\n",
      "  warnings.warn((\"The least populated class in y has only %d\"\n"
     ]
    },
    {
     "name": "stdout",
     "output_type": "stream",
     "text": [
      "0.6165375 4.987656250000012e-06\n"
     ]
    }
   ],
   "source": [
    "rfc = RandomForestClassifier(n_estimators=100,\n",
    "                             max_depth=15,\n",
    "                             min_samples_split=2,\n",
    "                             random_state=0)\n",
    "scores = cross_val_score(rfc, train_x, train_y, cv=10)\n",
    "print (scores.mean(),scores.var())\n",
    "#plt.boxplot(scores)"
   ]
  },
  {
   "cell_type": "code",
   "execution_count": 29,
   "metadata": {},
   "outputs": [
    {
     "data": {
      "text/plain": [
       "RandomForestClassifier(max_depth=15, random_state=0)"
      ]
     },
     "execution_count": 29,
     "metadata": {},
     "output_type": "execute_result"
    }
   ],
   "source": [
    "rfc.fit(train_x, train_y)"
   ]
  },
  {
   "cell_type": "code",
   "execution_count": 30,
   "metadata": {},
   "outputs": [
    {
     "name": "stdout",
     "output_type": "stream",
     "text": [
      "Mean Absolute Error: 21.92 degrees.\n"
     ]
    }
   ],
   "source": [
    "predictions = rfc.predict(test_x)\n",
    "errors = abs(predictions - test_y)\n",
    "print('Mean Absolute Error:', round(np.mean(errors), 2), 'degrees.')"
   ]
  },
  {
   "cell_type": "code",
   "execution_count": 31,
   "metadata": {},
   "outputs": [],
   "source": [
    "# KNN"
   ]
  },
  {
   "cell_type": "code",
   "execution_count": 100,
   "metadata": {},
   "outputs": [],
   "source": [
    "scaler = StandardScaler()\n",
    "scaler.fit(train_x)\n",
    "\n",
    "train_xsc = scaler.transform(train_x)\n",
    "test_xsc = scaler.transform(test_x)"
   ]
  },
  {
   "cell_type": "code",
   "execution_count": 101,
   "metadata": {},
   "outputs": [
    {
     "data": {
      "text/plain": [
       "array([[-0.09340103, -0.14178982, -0.0812977 ,  0.47007818,  0.6167647 ],\n",
       "       [-0.07399637,  0.95991324, -0.06891933, -0.81091969, -2.36788149],\n",
       "       [-0.09101304, -0.07280733, -0.0812977 ,  0.47007818,  0.6167647 ],\n",
       "       ...,\n",
       "       [-0.09337877, -0.08105202, -0.0812977 ,  0.47007818, -0.37811736],\n",
       "       [-0.08990454, -0.12814754, -0.0812977 , -0.81091969,  0.6167647 ],\n",
       "       [-0.09232184, -0.11106503, -0.0812977 ,  0.47007818,  0.6167647 ]])"
      ]
     },
     "execution_count": 101,
     "metadata": {},
     "output_type": "execute_result"
    }
   ],
   "source": [
    "train_xsc"
   ]
  },
  {
   "cell_type": "code",
   "execution_count": 102,
   "metadata": {},
   "outputs": [],
   "source": [
    "from sklearn.neighbors import KNeighborsRegressor"
   ]
  },
  {
   "cell_type": "code",
   "execution_count": 103,
   "metadata": {},
   "outputs": [],
   "source": [
    "neigh = KNeighborsRegressor(n_neighbors=10)\n",
    "neigh.fit(train_xsc, train_y)\n",
    "y_pred = neigh.predict(test_xsc)"
   ]
  },
  {
   "cell_type": "code",
   "execution_count": 104,
   "metadata": {},
   "outputs": [
    {
     "name": "stdout",
     "output_type": "stream",
     "text": [
      "Mean Absolute Error: 16.49 degrees.\n"
     ]
    }
   ],
   "source": [
    "errors_knn = abs(y_pred - test_y)\n",
    "print('Mean Absolute Error:', round(np.mean(errors_knn), 2), 'degrees.')"
   ]
  },
  {
   "cell_type": "code",
   "execution_count": null,
   "metadata": {},
   "outputs": [],
   "source": [
    "# SVM"
   ]
  },
  {
   "cell_type": "code",
   "execution_count": 105,
   "metadata": {},
   "outputs": [
    {
     "name": "stdout",
     "output_type": "stream",
     "text": [
      "Mean Absolute Error: 21.45 degrees.\n"
     ]
    }
   ],
   "source": [
    "from sklearn import svm\n",
    "regr = svm.SVR()\n",
    "regr.fit(train_xsc, train_y)\n",
    "y_pred = regr.predict(test_xsc)\n",
    "errors_knn = abs(y_pred - test_y)\n",
    "print('Mean Absolute Error:', round(np.mean(errors_knn), 2), 'degrees.')"
   ]
  },
  {
   "cell_type": "code",
   "execution_count": null,
   "metadata": {},
   "outputs": [],
   "source": []
  }
 ],
 "metadata": {
  "kernelspec": {
   "display_name": "Python 3",
   "language": "python",
   "name": "python3"
  },
  "language_info": {
   "codemirror_mode": {
    "name": "ipython",
    "version": 3
   },
   "file_extension": ".py",
   "mimetype": "text/x-python",
   "name": "python",
   "nbconvert_exporter": "python",
   "pygments_lexer": "ipython3",
   "version": "3.8.3"
  }
 },
 "nbformat": 4,
 "nbformat_minor": 4
}
